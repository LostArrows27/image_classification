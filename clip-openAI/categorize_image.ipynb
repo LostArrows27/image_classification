{
 "cells": [
  {
   "cell_type": "markdown",
   "metadata": {},
   "source": [
    "- Classify image similar to each other\n",
    "- Based on n_cluster = 3 -> classify to 3 classes"
   ]
  },
  {
   "cell_type": "code",
   "execution_count": 10,
   "metadata": {},
   "outputs": [],
   "source": [
    "import torch\n",
    "import clip\n",
    "from PIL import Image\n",
    "import numpy as np\n",
    "from sklearn.cluster import KMeans\n",
    "import os\n",
    "import shutil"
   ]
  },
  {
   "cell_type": "code",
   "execution_count": 13,
   "metadata": {},
   "outputs": [
    {
     "name": "stdout",
     "output_type": "stream",
     "text": [
      "Using device: cuda\n"
     ]
    }
   ],
   "source": [
    "# Thiết lập thiết bị và tải mô hình CLIP\n",
    "device = \"cuda\" if torch.cuda.is_available() else \"cpu\"\n",
    "print(f\"Using device: {device}\")\n",
    "\n",
    "model, preprocess = clip.load(\"ViT-B/32\", device=device)\n",
    "\n",
    "def get_image_features(image_path):\n",
    "    image = preprocess(Image.open(image_path)).unsqueeze(0).to(device)\n",
    "    with torch.no_grad():\n",
    "        image_features = model.encode_image(image)\n",
    "    return image_features.cpu().numpy()\n",
    "\n",
    "def cluster_images(image_paths, n_clusters=3):\n",
    "    features = [get_image_features(image_path) for image_path in image_paths]\n",
    "    features = np.vstack(features)\n",
    "    kmeans = KMeans(n_clusters=n_clusters, random_state=0).fit(features)\n",
    "    return kmeans.labels_\n",
    "\n",
    "def create_directories(base_dir, n_clusters):\n",
    "    for i in range(n_clusters):\n",
    "        cluster_dir = os.path.join(base_dir, f\"Cluster_{i}\")\n",
    "        if not os.path.exists(cluster_dir):\n",
    "            os.makedirs(cluster_dir)\n",
    "\n",
    "def move_images_to_clusters(image_paths, labels, base_dir):\n",
    "    for image_path, label in zip(image_paths, labels):\n",
    "        cluster_dir = os.path.join(base_dir, f\"Cluster_{label}\")\n",
    "        shutil.move(image_path, cluster_dir)"
   ]
  },
  {
   "cell_type": "code",
   "execution_count": null,
   "metadata": {},
   "outputs": [],
   "source": [
    "image_folder = \"D:\\\\Code Space\\\\AI\\\\image_classification\\\\image\\\\categorize\"\n",
    "output_folder = \"D:\\\\Code Space\\\\AI\\\\image_classification\\\\image\\\\output\"\n",
    "n_clusters = 3\n",
    "\n",
    "image_paths = [os.path.join(image_folder, img) for img in os.listdir(image_folder) if img.endswith(('.png', '.jpg', '.jpeg'))]\n",
    "\n",
    "# Nhóm các ảnh\n",
    "labels, features = cluster_images(image_paths, n_clusters=n_clusters)\n",
    "\n",
    "# Nhóm các ảnh\n",
    "labels = cluster_images(image_paths, n_clusters=n_clusters)\n",
    "\n",
    "# Tạo các thư mục cho các cụm\n",
    "create_directories(output_folder, n_clusters)\n",
    "\n",
    "# Di chuyển các ảnh vào các thư mục cụm tương ứng\n",
    "move_images_to_clusters(image_paths, labels, output_folder)\n",
    "\n",
    "print(\"Images have been grouped and moved to corresponding directories.\")"
   ]
  }
 ],
 "metadata": {
  "kernelspec": {
   "display_name": "Python 3",
   "language": "python",
   "name": "python3"
  },
  "language_info": {
   "codemirror_mode": {
    "name": "ipython",
    "version": 3
   },
   "file_extension": ".py",
   "mimetype": "text/x-python",
   "name": "python",
   "nbconvert_exporter": "python",
   "pygments_lexer": "ipython3",
   "version": "3.11.6"
  }
 },
 "nbformat": 4,
 "nbformat_minor": 2
}
