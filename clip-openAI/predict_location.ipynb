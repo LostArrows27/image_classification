{
 "cells": [
  {
   "cell_type": "markdown",
   "metadata": {},
   "source": [
    "Prediction image based on location labels"
   ]
  },
  {
   "cell_type": "code",
   "execution_count": null,
   "metadata": {},
   "outputs": [],
   "source": [
    "%pip install torch\n",
    "%pip install git+https://github.com/openai/CLIP.git\n",
    "%pip install pillow\n",
    "%pip install ipywidgets"
   ]
  },
  {
   "cell_type": "code",
   "execution_count": 10,
   "metadata": {},
   "outputs": [
    {
     "name": "stdout",
     "output_type": "stream",
     "text": [
      "Using device: cuda\n"
     ]
    }
   ],
   "source": [
    "import torch\n",
    "import clip\n",
    "from PIL import Image\n",
    "from tkinter import Tk, filedialog\n",
    "import numpy as np\n",
    "\n",
    "device = \"cuda\" if torch.cuda.is_available() else \"cpu\"\n",
    "print(f\"Using device: {device}\")\n",
    "\n",
    "clip.available_models()\n",
    "\n",
    "model, preprocess = clip.load(\"ViT-B/32\", device=device)"
   ]
  },
  {
   "cell_type": "code",
   "execution_count": 14,
   "metadata": {},
   "outputs": [
    {
     "name": "stdout",
     "output_type": "stream",
     "text": [
      "Địa điểm dự đoán: new school year\n"
     ]
    }
   ],
   "source": [
    "location_labels = [\"new school year\", \"cosplay festival\", \"festival\", \"event\", \"cosplay\" \"flower\", \"garden\", \"a photo of flower\", \"flower garden\", \"beach\", \"mountain\", \"city\", \"forest\", \"desert\", \"village\"]\n",
    "\n",
    "def classify_image(image_path):\n",
    "    # Bước 7.1: Tải và tiền xử lý ảnh\n",
    "    image = preprocess(Image.open(image_path)).unsqueeze(0).to(device)\n",
    "\n",
    "    # Bước 7.2: Token hóa các nhãn\n",
    "    text = clip.tokenize(location_labels).to(device)\n",
    "\n",
    "    # Bước 7.3: Tính toán đặc trưng của ảnh và văn bản, và tính xác suất\n",
    "    with torch.no_grad():\n",
    "        image_features = model.encode_image(image)\n",
    "        text_features = model.encode_text(text)\n",
    "        logits_per_image, logits_per_text = model(image, text)\n",
    "        probs = logits_per_image.softmax(dim=-1).cpu().numpy()\n",
    "\n",
    "    # Bước 7.4: Lấy nhãn dự đoán\n",
    "    predicted_label = location_labels[probs.argmax()]\n",
    "    return predicted_label\n",
    "\n",
    "image_path = filedialog.askopenfilename(title=\"Chọn một bức ảnh\", filetypes=[(\"Image files\", \"*.png *.jpg *.jpeg\")])\n",
    "if image_path:\n",
    "    predicted_label = classify_image(image_path)\n",
    "    print(f\"Địa điểm dự đoán: {predicted_label}\")\n",
    "else:\n",
    "    print(\"Không có ảnh nào được chọn.\")"
   ]
  }
 ],
 "metadata": {
  "kernelspec": {
   "display_name": "Python 3",
   "language": "python",
   "name": "python3"
  },
  "language_info": {
   "codemirror_mode": {
    "name": "ipython",
    "version": 3
   },
   "file_extension": ".py",
   "mimetype": "text/x-python",
   "name": "python",
   "nbconvert_exporter": "python",
   "pygments_lexer": "ipython3",
   "version": "3.11.6"
  }
 },
 "nbformat": 4,
 "nbformat_minor": 2
}
