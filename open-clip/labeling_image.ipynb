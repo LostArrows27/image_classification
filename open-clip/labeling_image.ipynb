{
 "cells": [
  {
   "cell_type": "code",
   "execution_count": null,
   "metadata": {},
   "outputs": [],
   "source": [
    "%pip install open_clip_torch"
   ]
  },
  {
   "cell_type": "code",
   "execution_count": null,
   "metadata": {},
   "outputs": [],
   "source": [
    "import torch\n",
    "from PIL import Image\n",
    "from tkinter import filedialog\n",
    "import open_clip\n",
    "import os\n",
    "\n",
    "open_clip.list_pretrained()"
   ]
  },
  {
   "cell_type": "code",
   "execution_count": null,
   "metadata": {},
   "outputs": [],
   "source": [
    "model, _, preprocess = open_clip.create_model_and_transforms('convnext_base', pretrained='laion400m_s13b_b51k')\n",
    "model.eval()  # model in train mode by default, impacts some models with BatchNorm or stochastic depth active\n",
    "tokenizer = open_clip.get_tokenizer('ViT-B-32');"
   ]
  },
  {
   "cell_type": "code",
   "execution_count": 22,
   "metadata": {},
   "outputs": [],
   "source": [
    "location_labels = [];\n",
    "\n",
    "final_label_file_path = '../label_data/components/place365_and_sun397_with_wordnet.txt'\n",
    "\n",
    "\n",
    "with open(final_label_file_path, 'r') as file:\n",
    "    for line in file:\n",
    "        label = line.strip()  \n",
    "        location_labels.append(label)\n",
    "\n",
    "\n",
    "location_description = tokenizer([\n",
    "    f\"{location}\"\n",
    "    for location in location_labels\n",
    "])"
   ]
  },
  {
   "cell_type": "code",
   "execution_count": 23,
   "metadata": {},
   "outputs": [],
   "source": [
    "def save_text_features(text_features, file_path):\n",
    "    torch.save(text_features, file_path)\n",
    "\n",
    "text_features_file = './encode/text_features.pt'\n",
    "\n",
    "if not os.path.exists(text_features_file):\n",
    "    with torch.no_grad():\n",
    "        text_features = model.encode_text(location_description)\n",
    "        text_features /= text_features.norm(dim=-1, keepdim=True)\n",
    "        save_text_features(text_features, text_features_file)\n",
    "else:\n",
    "    text_features = torch.load(text_features_file)\n"
   ]
  },
  {
   "cell_type": "code",
   "execution_count": 30,
   "metadata": {},
   "outputs": [],
   "source": [
    "image_path = filedialog.askopenfilename(title=\"Choose a image\", filetypes=[(\"Image files\", \"*.png *.jpg *.jpeg\")])\n",
    "\n",
    "image = preprocess(Image.open(image_path)).unsqueeze(0)\n"
   ]
  },
  {
   "cell_type": "code",
   "execution_count": 33,
   "metadata": {},
   "outputs": [
    {
     "name": "stdout",
     "output_type": "stream",
     "text": [
      "Running time: 0.1275 second\n",
      "-----------------------------------------\n",
      "downtown: 31.9988%\n",
      "river: 28.4951%\n",
      "valley: 18.1065%\n",
      "dam: 6.1124%\n",
      "archive: 5.0314%\n",
      "sky: 3.1605%\n",
      "outdoor oil refinery: 2.1395%\n",
      "street: 1.1304%\n",
      "bayou: 0.6068%\n",
      "park: 0.5022%\n"
     ]
    }
   ],
   "source": [
    "# NOTE: toi uu thoi gian gen anh 0.5 -> DONE\n",
    "# NOTE: toi uu viec encode text\n",
    "# TODO: toi uu label\n",
    "# TODO: toi uu viec encode image\n",
    "\n",
    "import time\n",
    "\n",
    "start_time = time.time()\n",
    "\n",
    "with torch.no_grad(), torch.cuda.amp.autocast():\n",
    "    image_features = model.encode_image(image)\n",
    "    image_features /= image_features.norm(dim=-1, keepdim=True)\n",
    "\n",
    "    location_probs = (100.0 * image_features @ text_features.T).softmax(dim=-1)\n",
    "\n",
    "sorted_probs_and_labels = sorted(zip(location_labels, location_probs[0]), key=lambda x: x[1], reverse=True)\n",
    "\n",
    "\n",
    "end_time = time.time()\n",
    "elapsed_time = end_time - start_time\n",
    "\n",
    "print(f\"Running time: {elapsed_time:.4f} second\")\n",
    "print(\"-----------------------------------------\")\n",
    "\n",
    "for location, prob in sorted_probs_and_labels[:10]:\n",
    "    print(f\"{location}: {100*prob.item():.4f}%\")\n",
    "\n"
   ]
  }
 ],
 "metadata": {
  "kernelspec": {
   "display_name": "Python 3",
   "language": "python",
   "name": "python3"
  },
  "language_info": {
   "codemirror_mode": {
    "name": "ipython",
    "version": 3
   },
   "file_extension": ".py",
   "mimetype": "text/x-python",
   "name": "python",
   "nbconvert_exporter": "python",
   "pygments_lexer": "ipython3",
   "version": "3.11.6"
  }
 },
 "nbformat": 4,
 "nbformat_minor": 2
}
