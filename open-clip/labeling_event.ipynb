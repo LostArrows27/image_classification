{
 "cells": [
  {
   "cell_type": "code",
   "execution_count": 1,
   "metadata": {},
   "outputs": [
    {
     "name": "stdout",
     "output_type": "stream",
     "text": [
      "Using device: cuda\n",
      "NVIDIA GeForce RTX 4050 Laptop GPU\n"
     ]
    }
   ],
   "source": [
    "import torch\n",
    "from PIL import Image, ImageOps\n",
    "from tkinter import filedialog\n",
    "import open_clip\n",
    "import os\n",
    "\n",
    "device = \"cuda\" if torch.cuda.is_available() else \"cpu\"\n",
    "print(f\"Using device: {device}\")\n",
    "print(torch.cuda.get_device_name()) \n",
    "# open_clip.list_pretrained()\n",
    "\n",
    "model, _, preprocess = open_clip.create_model_and_transforms('convnext_base', pretrained='laion400m_s13b_b51k')\n",
    "model.eval() \n",
    "tokenizer = open_clip.get_tokenizer('ViT-B-32');"
   ]
  },
  {
   "cell_type": "code",
   "execution_count": 5,
   "metadata": {},
   "outputs": [
    {
     "name": "stderr",
     "output_type": "stream",
     "text": [
      "C:\\Users\\ADMIN\\AppData\\Local\\Temp\\ipykernel_19996\\126374585.py:28: FutureWarning: You are using `torch.load` with `weights_only=False` (the current default value), which uses the default pickle module implicitly. It is possible to construct malicious pickle data which will execute arbitrary code during unpickling (See https://github.com/pytorch/pytorch/blob/main/SECURITY.md#untrusted-models for more details). In a future release, the default value for `weights_only` will be flipped to `True`. This limits the functions that could be executed during unpickling. Arbitrary objects will no longer be allowed to be loaded via this mode unless they are explicitly allowlisted by the user via `torch.serialization.add_safe_globals`. We recommend you start setting `weights_only=True` for any use case where you don't have full control of the loaded file. Please open an issue on GitHub for any issues related to this experimental feature.\n",
      "  text_features = torch.load(text_features_file)\n"
     ]
    }
   ],
   "source": [
    "holiday_labels = [];\n",
    "\n",
    "final_label_file_path = '../label_data/events/holidays_list.txt'\n",
    "\n",
    "\n",
    "with open(final_label_file_path, 'r') as file:\n",
    "    for line in file:\n",
    "        label = line.strip()  \n",
    "        holiday_labels.append(label)\n",
    "\n",
    "\n",
    "holiday_description = tokenizer([\n",
    "     f\"This image shows events, activities, and things typically seen during {holiday}. Can you identify what holiday it represents based on these elements?\"\n",
    "    for holiday in holiday_labels\n",
    "])\n",
    "\n",
    "def save_text_features(text_features, file_path):\n",
    "    torch.save(text_features, file_path)\n",
    "\n",
    "text_features_file = './encode/text_features_event.pt'\n",
    "\n",
    "if not os.path.exists(text_features_file):\n",
    "    with torch.no_grad():\n",
    "        text_features = model.encode_text(holiday_description)\n",
    "        text_features /= text_features.norm(dim=-1, keepdim=True)\n",
    "        save_text_features(text_features, text_features_file)\n",
    "else:\n",
    "    text_features = torch.load(text_features_file)"
   ]
  },
  {
   "cell_type": "code",
   "execution_count": 6,
   "metadata": {},
   "outputs": [
    {
     "name": "stdout",
     "output_type": "stream",
     "text": [
      "Running time: 0.1314 second\n",
      "-----------------------------------------\n",
      "Hung Kings commemoration day - Vietnam: 99.9759%\n",
      "Lunar New Year - Vietnam: 0.0216%\n",
      "Chuseok - South Korea: 0.0009%\n",
      "Tomb-Sweeping Day - China: 0.0008%\n",
      "Dragon Boat Festival - China: 0.0006%\n",
      "Korean New Year: 0.0001%\n",
      "Mid-Autumn Festival: 0.0000%\n",
      "Culture Day - Japan: 0.0000%\n",
      "Showa Day - Japan: 0.0000%\n",
      "Children's Day: 0.0000%\n"
     ]
    }
   ],
   "source": [
    "import time\n",
    "\n",
    "image_path = filedialog.askopenfilename(title=\"Choose a image\", filetypes=[(\"Image files\", \"*.png *.jpg *.jpeg\")])\n",
    "\n",
    "image = preprocess(Image.open(image_path)).unsqueeze(0)\n",
    "\n",
    "start_time = time.time()\n",
    "\n",
    "with torch.no_grad(), torch.amp.autocast('cuda'):\n",
    "    image_features = model.encode_image(image)\n",
    "    image_features /= image_features.norm(dim=-1, keepdim=True)\n",
    "\n",
    "    holiday_probs = (100.0 * image_features @ text_features.T).softmax(dim=-1)\n",
    "\n",
    "sorted_probs_and_labels = sorted(zip(holiday_labels, holiday_probs[0]), key=lambda x: x[1], reverse=True)\n",
    "\n",
    "\n",
    "end_time = time.time()\n",
    "elapsed_time = end_time - start_time\n",
    "\n",
    "print(f\"Running time: {elapsed_time:.4f} second\")\n",
    "print(\"-----------------------------------------\")\n",
    "\n",
    "for holiday, prob in sorted_probs_and_labels[:10]:\n",
    "    print(f\"{holiday}: {100*prob.item():.4f}%\")\n"
   ]
  }
 ],
 "metadata": {
  "kernelspec": {
   "display_name": "Python 3",
   "language": "python",
   "name": "python3"
  },
  "language_info": {
   "codemirror_mode": {
    "name": "ipython",
    "version": 3
   },
   "file_extension": ".py",
   "mimetype": "text/x-python",
   "name": "python",
   "nbconvert_exporter": "python",
   "pygments_lexer": "ipython3",
   "version": "3.11.6"
  }
 },
 "nbformat": 4,
 "nbformat_minor": 2
}
