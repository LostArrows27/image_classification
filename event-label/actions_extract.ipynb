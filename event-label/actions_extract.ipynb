{
 "cells": [
  {
   "cell_type": "code",
   "execution_count": null,
   "metadata": {},
   "outputs": [
    {
     "name": "stdout",
     "output_type": "stream",
     "text": [
      "Processed activities have been saved to ../label_data/events/action_lists.txt\n"
     ]
    }
   ],
   "source": [
    "import csv\n",
    "\n",
    "csv_file_path = '../label_data/events/action_lists.csv'\n",
    "output_file_path = '../label_data/events/action_lists.txt'\n",
    "\n",
    "activities = set()\n",
    "\n",
    "with open(csv_file_path, 'r') as file:\n",
    "    reader = csv.reader(file)\n",
    "    \n",
    "    for row in reader:\n",
    "        for activity in row:\n",
    "            processed_activity = activity.lower().replace('_', ' ')\n",
    "            activities.add(processed_activity)\n",
    "\n",
    "with open(output_file_path, 'w') as output_file:\n",
    "    for activity in activities:\n",
    "        output_file.write(activity + '\\n')\n",
    "\n",
    "print(f\"Processed activities have been saved to {output_file_path}\")\n"
   ]
  }
 ],
 "metadata": {
  "kernelspec": {
   "display_name": "Python 3",
   "language": "python",
   "name": "python3"
  },
  "language_info": {
   "codemirror_mode": {
    "name": "ipython",
    "version": 3
   },
   "file_extension": ".py",
   "mimetype": "text/x-python",
   "name": "python",
   "nbconvert_exporter": "python",
   "pygments_lexer": "ipython3",
   "version": "3.11.6"
  }
 },
 "nbformat": 4,
 "nbformat_minor": 2
}
