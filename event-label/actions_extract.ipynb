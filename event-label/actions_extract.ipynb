{
 "cells": [
  {
   "cell_type": "markdown",
   "metadata": {},
   "source": [
    "1. Extract action from dataset"
   ]
  },
  {
   "cell_type": "code",
   "execution_count": 4,
   "metadata": {},
   "outputs": [
    {
     "name": "stdout",
     "output_type": "stream",
     "text": [
      "Processed activities have been saved to ../label_data/events/action_lists.txt\n"
     ]
    }
   ],
   "source": [
    "import csv\n",
    "\n",
    "csv_file_path = '../label_data/events/action_lists.csv'\n",
    "output_file_path = '../label_data/events/action_lists.txt'\n",
    "\n",
    "activities = set()\n",
    "\n",
    "with open(csv_file_path, 'r') as file:\n",
    "    reader = csv.reader(file)\n",
    "    \n",
    "    for row in reader:\n",
    "        for activity in row:\n",
    "            processed_activity = activity.lower().replace('_', ' ')\n",
    "            activities.add(processed_activity)\n",
    "\n",
    "with open(output_file_path, 'w') as output_file:\n",
    "    for activity in activities:\n",
    "        output_file.write(activity + '\\n')\n",
    "\n",
    "print(f\"Processed activities have been saved to {output_file_path}\")\n"
   ]
  },
  {
   "cell_type": "markdown",
   "metadata": {},
   "source": [
    "2. Extract UCF101 action list"
   ]
  },
  {
   "cell_type": "code",
   "execution_count": 6,
   "metadata": {},
   "outputs": [
    {
     "name": "stdout",
     "output_type": "stream",
     "text": [
      "UCF activities have been appended to ../label_data/events/action_lists.txt\n"
     ]
    }
   ],
   "source": [
    "UCF_action_list_path = '../label_data/events/UCF101.txt'\n",
    "action_lists_path = '../label_data/events/action_lists.txt'\n",
    "\n",
    "with open(UCF_action_list_path, 'r') as file:\n",
    "    for line in file:\n",
    "        for activity in line.split(','):\n",
    "            processed_activity = activity.strip().lower()\n",
    "            activities.add(processed_activity)\n",
    "\n",
    "with open(action_lists_path, 'a') as output_file:\n",
    "    for activity in activities:\n",
    "        output_file.write(activity + '\\n')\n",
    "        \n",
    "print(f\"UCF activities have been appended to {action_lists_path}\")\n"
   ]
  }
 ],
 "metadata": {
  "kernelspec": {
   "display_name": "Python 3",
   "language": "python",
   "name": "python3"
  },
  "language_info": {
   "codemirror_mode": {
    "name": "ipython",
    "version": 3
   },
   "file_extension": ".py",
   "mimetype": "text/x-python",
   "name": "python",
   "nbconvert_exporter": "python",
   "pygments_lexer": "ipython3",
   "version": "3.11.6"
  }
 },
 "nbformat": 4,
 "nbformat_minor": 2
}
