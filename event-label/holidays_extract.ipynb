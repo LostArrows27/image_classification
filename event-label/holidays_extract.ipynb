{
 "cells": [
  {
   "cell_type": "code",
   "execution_count": null,
   "metadata": {},
   "outputs": [],
   "source": [
    "%pip install --upgrade holidays"
   ]
  },
  {
   "cell_type": "code",
   "execution_count": null,
   "metadata": {},
   "outputs": [
    {
     "name": "stdout",
     "output_type": "stream",
     "text": [
      "Đã lưu các ngày lễ không trùng lặp vào file ../label_data/events/holidays_list.txt\n"
     ]
    }
   ],
   "source": [
    "from datetime import date\n",
    "import holidays\n",
    "\n",
    "# Xác định phạm vi năm\n",
    "start_year = 2024\n",
    "end_year = 2024\n",
    "\n",
    "country_codes = {\n",
    "    'VN': 'Vietnam',\n",
    "    'JP': 'Japan',\n",
    "    'CN': 'China',\n",
    "    'GB': 'United Kingdom',\n",
    "    'US': 'United States',\n",
    "    'FR': 'France',\n",
    "    'KR': 'South Korea',\n",
    "}\n",
    "\n",
    "unique_holidays = set()\n",
    "\n",
    "for code, country in country_codes.items():\n",
    "    for year in range(start_year, end_year + 1):\n",
    "        country_holidays = holidays.country_holidays(code, years=year, language='en_US')\n",
    "        for holiday_date, holiday_name in country_holidays.items():\n",
    "            unique_holidays.add(f\"{holiday_name} - {country}\")\n",
    "\n",
    "output_file = \"../label_data/events/holidays_list.txt\"\n",
    "\n",
    "with open(output_file, 'w', encoding='utf-8') as file:\n",
    "    for holiday in sorted(unique_holidays):\n",
    "        file.write(holiday + \"\\n\")\n",
    "\n",
    "print(f\"Đã lưu các ngày lễ không trùng lặp vào file {output_file}\")\n"
   ]
  }
 ],
 "metadata": {
  "kernelspec": {
   "display_name": "Python 3",
   "language": "python",
   "name": "python3"
  },
  "language_info": {
   "codemirror_mode": {
    "name": "ipython",
    "version": 3
   },
   "file_extension": ".py",
   "mimetype": "text/x-python",
   "name": "python",
   "nbconvert_exporter": "python",
   "pygments_lexer": "ipython3",
   "version": "3.11.6"
  }
 },
 "nbformat": 4,
 "nbformat_minor": 2
}
